{
  "nbformat": 4,
  "nbformat_minor": 0,
  "metadata": {
    "colab": {
      "provenance": []
    },
    "kernelspec": {
      "name": "python3",
      "display_name": "Python 3"
    },
    "language_info": {
      "name": "python"
    }
  },
  "cells": [
    {
      "cell_type": "markdown",
      "source": [
        "# Modules"
      ],
      "metadata": {
        "id": "Tk3ljIwlUlIy"
      }
    },
    {
      "cell_type": "code",
      "source": [
        "import random\n",
        "import statistics\n",
        "import matplotlib.pyplot as plt\n"
      ],
      "metadata": {
        "id": "Fe4z3oP8UkCz"
      },
      "execution_count": 1,
      "outputs": []
    },
    {
      "cell_type": "markdown",
      "source": [
        "# Parametrizing the experiments"
      ],
      "metadata": {
        "id": "vxQ5KRPUVQhO"
      }
    },
    {
      "cell_type": "code",
      "source": [
        "TARGET = 100 # Target \"smartness\" for our population\n",
        "POP_SIZE = 40 # The size of the population at the start of each iteration (keep this even, if you change it)\n",
        "INIT_MIN_SMART = 1 # The minimum smartness of a dog at ITER 0\n",
        "INIT_MAX_SMART = 10 # The maximum smartness of a dog at ITER 0\n",
        "INIT_MODE_SMART = 3 # The most comon smartness value of a dog at ITER 0\n",
        "MUTATE_ODDS = 0.01 # Probability of mutation for a new puppy\n",
        "MUTATE_MIN_FACTOR = 0.4 # Lower bound for the  product factor we multuply smartness for, if mutation happens\n",
        "MUTATE_MAX_FACTOR = 1.3 # Upper bound for the  product factor we multuply smartness for, if mutation happens\n",
        "LITTER_SIZE = 5 # Puppies born from each pair of adult dogs\n",
        "MAX_ITER = 1000 # Max number of iterations"
      ],
      "metadata": {
        "id": "bsflxokaVPi8"
      },
      "execution_count": 2,
      "outputs": []
    },
    {
      "cell_type": "markdown",
      "source": [
        "# Population\n",
        "Generate population of a fixed size with a 50/50 gender split ratio, of dogs with a given initial smartness factor according to parameters."
      ],
      "metadata": {
        "id": "lxO7uIB5U87C"
      }
    },
    {
      "cell_type": "code",
      "source": [
        "def population(psize = POP_SIZE, imin = INIT_MIN_SMART, imx = INIT_MAX_SMART , imod = INIT_MODE_SMART):\n",
        "    \n",
        "    m = []  # male list\n",
        "    f = []  # female list\n",
        "    \n",
        "    m = [int(random.triangular(imin,imx,imod)) for _ in range(int(psize/2))]  #Return a random number between, and included, min and mx, but most likely closer imod \n",
        "    f = [int(random.triangular(imin,imx,imod)) for _ in range(int(psize/2))] \n",
        "    \n",
        "    return m,f"
      ],
      "metadata": {
        "id": "939ZxTzPU8Wi"
      },
      "execution_count": 3,
      "outputs": []
    },
    {
      "cell_type": "markdown",
      "source": [
        "# Measure the fitness of the entire population"
      ],
      "metadata": {
        "id": "uCwvihcLam57"
      }
    },
    {
      "cell_type": "code",
      "source": [
        "def fitness(m,f):\n",
        "\n",
        "    med = round(statistics.mean(m+f),3)  # m+f :  list Concatenation\n",
        "   \n",
        "    return med"
      ],
      "metadata": {
        "id": "yVaLdYKnaoUa"
      },
      "execution_count": 9,
      "outputs": []
    },
    {
      "cell_type": "markdown",
      "source": [
        "# Generate the new offspring\n",
        "Assume that \n",
        " - given a pair of parent dogs, a new puppy smartness will lie in that same min-max range.\n",
        " - in order to replicate what would happen in nature, we should not assume that smarter dogs pair with smarter dogs.\n",
        " - each pair breed as many puppies as the litter size parameter indicates.\n",
        "\n"
      ],
      "metadata": {
        "id": "F1VIiFH1deUI"
      }
    },
    {
      "cell_type": "code",
      "source": [
        "def new_offspring(m, f, lz = LITTER_SIZE):\n",
        "\n",
        "   random.shuffle(m) # reorganize the order of the list items\n",
        "   random.shuffle(f)\n",
        "   #print(m,f) \n",
        "\n",
        "   #new_pupp = [random.randint(min(m[i],f[i]), max(m[i],f[i])) for i in range(len(m))]  # line for one puppy  ||*|| range(len(m) == range(0, 20)\n",
        "   new_pupp = [random.randint(min(m[i],f[i]), max(m[i],f[i])) for i in range(len(m)) for _ in range(lz)] # line for LITTER_SIZE  puppy\n",
        "   \n",
        "   return new_pupp"
      ],
      "metadata": {
        "id": "jxqtlCwxdiXx"
      },
      "execution_count": 15,
      "outputs": []
    },
    {
      "cell_type": "markdown",
      "source": [
        "# Mutate the set of offspring\n",
        "A small percentage of the puppies should undergo mutation. This could either lead to a lower or a higher smartness value;\n",
        "since their base value is directly multiplied with a random value in the closed range [MUTATE_MIN_FACTOR, MUTATE_MAX_FACTOR]."
      ],
      "metadata": {
        "id": "UTr8nUBnncPj"
      }
    },
    {
      "cell_type": "code",
      "source": [
        "def mutate(np, mo = MUTATE_ODDS, mminf = MUTATE_MIN_FACTOR, mmaxf = MUTATE_MAX_FACTOR):\n",
        "\n",
        "    for i in range(len(np)):\n",
        "\n",
        "      if round(random.random(),2) < mo: # Probability of mutation for a new puppy is given by factor MUTATE_ODDS\n",
        "      \n",
        "           np[i] = int((np[i] * random.uniform(mminf,mmaxf)) )\n",
        "           print(f' The number : {i} of this generation has been mutated. Now get value : {np[i]} ')\n",
        "     \n",
        "    return np"
      ],
      "metadata": {
        "id": "rCR4Ab0snteL"
      },
      "execution_count": 16,
      "outputs": []
    },
    {
      "cell_type": "markdown",
      "source": [
        "# Select the best candidates\n",
        "\n",
        "At each iteration, we have to resize our current population down to its initial size, preserving only the smartest dogs available for the next iteration. We have to make sure to keep also the initial gender split ratio."
      ],
      "metadata": {
        "id": "uoC2IIiiXdrb"
      }
    },
    {
      "cell_type": "code",
      "source": [
        "def select(sp,psize = POP_SIZE):\n",
        "    \n",
        "    newm = []\n",
        "    newf = []\n",
        "    \n",
        "    \n",
        "    random.shuffle(sp)\n",
        "    #print(sp)\n",
        "\n",
        "    newm = sp[:len(sp)//2] \n",
        "    newf = sp[len(sp)//2:] \n",
        "    \n",
        "    #print(newm,newf)\n",
        "\n",
        "    newm.sort(reverse=True)\n",
        "    newf.sort(reverse=True)    \n",
        "     \n",
        "    #print(newm,newf)\n",
        "\n",
        "    del newm[psize:]  # delete all the minor values of the sorted list ensuring the required size POP_SIZE \n",
        "    del newf[psize:]\n",
        "\n",
        "    #print(newm,newf)\n",
        "    \n",
        "    return newm, newf"
      ],
      "metadata": {
        "id": "i6E4bt8lXw1o"
      },
      "execution_count": 24,
      "outputs": []
    },
    {
      "cell_type": "markdown",
      "source": [
        "# Main"
      ],
      "metadata": {
        "id": "XRbtYLfvcMon"
      }
    },
    {
      "cell_type": "code",
      "source": [
        "def main():\n",
        "  \n",
        "  cnt = 0\n",
        "  med = 0\n",
        "  dm = []\n",
        "  df = []\n",
        "  b  = []\n",
        "\n",
        "  g_cnt = 0  # used to make a graph\n",
        "  g_med = []\n",
        "\n",
        "  dm,df = population()\n",
        "\n",
        "  while (med < float(TARGET)) or (cnt == MAX_ITER):\n",
        "    \n",
        "    med = fitness(dm,df)\n",
        "    cnt +=1\n",
        "    g_med.append(med)\n",
        "    print(f'Generation : {cnt}   ---   Fitness value : {med}')\n",
        "    \n",
        "    b = new_offspring(dm,df)\n",
        "    b = mutate(b)\n",
        "    dm,df = select(b)\n",
        "    print(\"\")\n",
        "\n",
        "  g_cnt = cnt\n",
        "  \n",
        "\n",
        "  return  g_cnt,g_med"
      ],
      "metadata": {
        "id": "knIkPzaOcY6W"
      },
      "execution_count": 35,
      "outputs": []
    },
    {
      "cell_type": "code",
      "source": [
        "if __name__ == '__main__':\n",
        "    g_cnt,g_med = main()\n",
        "\n",
        "    plt.plot(range(g_cnt),g_med , 'b*')\n",
        "    plt.xlabel(\"Generation\") \n",
        "    plt.ylabel(\"Fitness\")\n",
        "    plt.show()"
      ],
      "metadata": {
        "colab": {
          "base_uri": "https://localhost:8080/",
          "height": 1000
        },
        "id": "Dli6lv0HdkGV",
        "outputId": "fcb7436f-803d-4d1b-e99a-49354120f9ab"
      },
      "execution_count": 36,
      "outputs": [
        {
          "output_type": "stream",
          "name": "stdout",
          "text": [
            "Generation : 1   ---   Fitness value : 4.15\n",
            "\n",
            "Generation : 2   ---   Fitness value : 4.537\n",
            "\n",
            "Generation : 3   ---   Fitness value : 5.975\n",
            "\n",
            "Generation : 4   ---   Fitness value : 6.55\n",
            "\n",
            "Generation : 5   ---   Fitness value : 7.213\n",
            "\n",
            "Generation : 6   ---   Fitness value : 7.513\n",
            "\n",
            "Generation : 7   ---   Fitness value : 8\n",
            "\n",
            "Generation : 8   ---   Fitness value : 8\n",
            "\n",
            "Generation : 9   ---   Fitness value : 8\n",
            "\n",
            "Generation : 10   ---   Fitness value : 8.012\n",
            "\n",
            "Generation : 11   ---   Fitness value : 8.037\n",
            "\n",
            "Generation : 12   ---   Fitness value : 8.125\n",
            "\n",
            "Generation : 13   ---   Fitness value : 8.325\n",
            "\n",
            "Generation : 14   ---   Fitness value : 8.8\n",
            "\n",
            "Generation : 15   ---   Fitness value : 9.037\n",
            "\n",
            "Generation : 16   ---   Fitness value : 9.088\n",
            "\n",
            "Generation : 17   ---   Fitness value : 9.162\n",
            "\n",
            "Generation : 18   ---   Fitness value : 9.425\n",
            "\n",
            "Generation : 19   ---   Fitness value : 9.988\n",
            "\n",
            "Generation : 20   ---   Fitness value : 10\n",
            "\n",
            "Generation : 21   ---   Fitness value : 10\n",
            "\n",
            "Generation : 22   ---   Fitness value : 10\n",
            "\n",
            "Generation : 23   ---   Fitness value : 10\n",
            "\n",
            "Generation : 24   ---   Fitness value : 10\n",
            "\n",
            "Generation : 25   ---   Fitness value : 10\n",
            "\n",
            "Generation : 26   ---   Fitness value : 10\n",
            "\n",
            "Generation : 27   ---   Fitness value : 10\n",
            "\n",
            "Generation : 28   ---   Fitness value : 10\n",
            "\n",
            "Generation : 29   ---   Fitness value : 10\n",
            "\n",
            "Generation : 30   ---   Fitness value : 10\n",
            "\n",
            "Generation : 31   ---   Fitness value : 10\n",
            "\n",
            "Generation : 32   ---   Fitness value : 10\n",
            "\n",
            "Generation : 33   ---   Fitness value : 10\n",
            "\n",
            "Generation : 34   ---   Fitness value : 10\n",
            "\n",
            "Generation : 35   ---   Fitness value : 10.025\n",
            "\n",
            "Generation : 36   ---   Fitness value : 10.062\n",
            "\n",
            "Generation : 37   ---   Fitness value : 10.15\n",
            "\n",
            "Generation : 38   ---   Fitness value : 10.412\n",
            "\n",
            "Generation : 39   ---   Fitness value : 11\n",
            "\n",
            "Generation : 40   ---   Fitness value : 11.2\n",
            "\n",
            "Generation : 41   ---   Fitness value : 11.488\n",
            "\n",
            "Generation : 42   ---   Fitness value : 12\n",
            "\n",
            "Generation : 43   ---   Fitness value : 12\n",
            "\n",
            "Generation : 44   ---   Fitness value : 12\n",
            "\n",
            "Generation : 45   ---   Fitness value : 12\n",
            "\n",
            "Generation : 46   ---   Fitness value : 12\n",
            "\n",
            "Generation : 47   ---   Fitness value : 12\n",
            "\n",
            "Generation : 48   ---   Fitness value : 12\n",
            "\n",
            "Generation : 49   ---   Fitness value : 12\n",
            "\n",
            "Generation : 50   ---   Fitness value : 12\n",
            "\n",
            "Generation : 51   ---   Fitness value : 12.012\n",
            "\n",
            "Generation : 52   ---   Fitness value : 12.05\n",
            "\n",
            "Generation : 53   ---   Fitness value : 12.15\n",
            "\n",
            "Generation : 54   ---   Fitness value : 12.412\n",
            "\n",
            "Generation : 55   ---   Fitness value : 13.088\n",
            "\n",
            "Generation : 56   ---   Fitness value : 13.375\n",
            "\n",
            "Generation : 57   ---   Fitness value : 13.9\n",
            "\n",
            "Generation : 58   ---   Fitness value : 14.463\n",
            "\n",
            "Generation : 59   ---   Fitness value : 15\n",
            "\n",
            "Generation : 60   ---   Fitness value : 15\n",
            "\n",
            "Generation : 61   ---   Fitness value : 15.012\n",
            "\n",
            "Generation : 62   ---   Fitness value : 15.05\n",
            "\n",
            "Generation : 63   ---   Fitness value : 15.113\n",
            "\n",
            "Generation : 64   ---   Fitness value : 15.262\n",
            "\n",
            "Generation : 65   ---   Fitness value : 15.662\n",
            "\n",
            "Generation : 66   ---   Fitness value : 16\n",
            "\n",
            "Generation : 67   ---   Fitness value : 16\n",
            "\n",
            "Generation : 68   ---   Fitness value : 16\n",
            "\n",
            "Generation : 69   ---   Fitness value : 16.012\n",
            "\n",
            "Generation : 70   ---   Fitness value : 16.062\n",
            "\n",
            "Generation : 71   ---   Fitness value : 16.188\n",
            "\n",
            "Generation : 72   ---   Fitness value : 16.45\n",
            "\n",
            "Generation : 73   ---   Fitness value : 17.062\n",
            "\n",
            "Generation : 74   ---   Fitness value : 17.188\n",
            "\n",
            "Generation : 75   ---   Fitness value : 17.425\n",
            "\n",
            "Generation : 76   ---   Fitness value : 17.925\n",
            "\n",
            "Generation : 77   ---   Fitness value : 18\n",
            "\n",
            "Generation : 78   ---   Fitness value : 18\n",
            "\n",
            "Generation : 79   ---   Fitness value : 18.025\n",
            "\n",
            "Generation : 80   ---   Fitness value : 18.025\n",
            "\n",
            "Generation : 81   ---   Fitness value : 18.087\n",
            "\n",
            "Generation : 82   ---   Fitness value : 18.225\n",
            "\n",
            "Generation : 83   ---   Fitness value : 18.538\n",
            "\n",
            "Generation : 84   ---   Fitness value : 19\n",
            "\n",
            "Generation : 85   ---   Fitness value : 19.062\n",
            "\n",
            "Generation : 86   ---   Fitness value : 19.212\n",
            "\n",
            "Generation : 87   ---   Fitness value : 19.488\n",
            "\n",
            "Generation : 88   ---   Fitness value : 20.375\n",
            "\n",
            "Generation : 89   ---   Fitness value : 21.175\n",
            "\n",
            "Generation : 90   ---   Fitness value : 21.525\n",
            "\n",
            "Generation : 91   ---   Fitness value : 22.2\n",
            "\n",
            "Generation : 92   ---   Fitness value : 22.575\n",
            "\n",
            "Generation : 93   ---   Fitness value : 23.087\n",
            "\n",
            "Generation : 94   ---   Fitness value : 23.225\n",
            "\n",
            "Generation : 95   ---   Fitness value : 23.663\n",
            "\n",
            "Generation : 96   ---   Fitness value : 24\n",
            "\n",
            "Generation : 97   ---   Fitness value : 24\n",
            "\n",
            "Generation : 98   ---   Fitness value : 24\n",
            "\n",
            "Generation : 99   ---   Fitness value : 24\n",
            "\n",
            "Generation : 100   ---   Fitness value : 24\n",
            "\n",
            "Generation : 101   ---   Fitness value : 24.05\n",
            "\n",
            "Generation : 102   ---   Fitness value : 24.113\n",
            "\n",
            "Generation : 103   ---   Fitness value : 24.262\n",
            "\n",
            "Generation : 104   ---   Fitness value : 24.688\n",
            "\n",
            "Generation : 105   ---   Fitness value : 25.587\n",
            "\n",
            "Generation : 106   ---   Fitness value : 26.4\n",
            "\n",
            "Generation : 107   ---   Fitness value : 27.137\n",
            "\n",
            "Generation : 108   ---   Fitness value : 27.575\n",
            "\n",
            "Generation : 109   ---   Fitness value : 28.212\n",
            "\n",
            "Generation : 110   ---   Fitness value : 28.688\n",
            "\n",
            "Generation : 111   ---   Fitness value : 29.212\n",
            "\n",
            "Generation : 112   ---   Fitness value : 29.475\n",
            "\n",
            "Generation : 113   ---   Fitness value : 30.163\n",
            "\n",
            "Generation : 114   ---   Fitness value : 30.975\n",
            "\n",
            "Generation : 115   ---   Fitness value : 31.575\n",
            "\n",
            "Generation : 116   ---   Fitness value : 32.263\n",
            "\n",
            "Generation : 117   ---   Fitness value : 32.475\n",
            "\n",
            "Generation : 118   ---   Fitness value : 33.05\n",
            "\n",
            "Generation : 119   ---   Fitness value : 33.625\n",
            "\n",
            "Generation : 120   ---   Fitness value : 34.675\n",
            "\n",
            "Generation : 121   ---   Fitness value : 35.562\n",
            "\n",
            "Generation : 122   ---   Fitness value : 36.388\n",
            "\n",
            "Generation : 123   ---   Fitness value : 37.013\n",
            "\n",
            "Generation : 124   ---   Fitness value : 37.525\n",
            "\n",
            "Generation : 125   ---   Fitness value : 38.225\n",
            "\n",
            "Generation : 126   ---   Fitness value : 39.038\n",
            "\n",
            "Generation : 127   ---   Fitness value : 40\n",
            "\n",
            "Generation : 128   ---   Fitness value : 40.875\n",
            "\n",
            "Generation : 129   ---   Fitness value : 41.538\n",
            "\n",
            "Generation : 130   ---   Fitness value : 42.075\n",
            "\n",
            "Generation : 131   ---   Fitness value : 42.188\n",
            "\n",
            "Generation : 132   ---   Fitness value : 42.413\n",
            "\n",
            "Generation : 133   ---   Fitness value : 42.8\n",
            "\n",
            "Generation : 134   ---   Fitness value : 43\n",
            "\n",
            "Generation : 135   ---   Fitness value : 43.112\n",
            "\n",
            "Generation : 136   ---   Fitness value : 43.4\n",
            "\n",
            "Generation : 137   ---   Fitness value : 43.913\n",
            "\n",
            "Generation : 138   ---   Fitness value : 45.2\n",
            "\n",
            "Generation : 139   ---   Fitness value : 46.825\n",
            "\n",
            "Generation : 140   ---   Fitness value : 48.1\n",
            "\n",
            "Generation : 141   ---   Fitness value : 48.9\n",
            "\n",
            "Generation : 142   ---   Fitness value : 49.5\n",
            "\n",
            "Generation : 143   ---   Fitness value : 50\n",
            "\n",
            "Generation : 144   ---   Fitness value : 50\n",
            "\n",
            "Generation : 145   ---   Fitness value : 50\n",
            "\n",
            "Generation : 146   ---   Fitness value : 50.062\n",
            "\n",
            "Generation : 147   ---   Fitness value : 50.163\n",
            "\n",
            "Generation : 148   ---   Fitness value : 50.525\n",
            "\n",
            "Generation : 149   ---   Fitness value : 51.375\n",
            "\n",
            "Generation : 150   ---   Fitness value : 52.688\n",
            "\n",
            "Generation : 151   ---   Fitness value : 53.438\n",
            "\n",
            "Generation : 152   ---   Fitness value : 54.1\n",
            "\n",
            "Generation : 153   ---   Fitness value : 54.3\n",
            "\n",
            "Generation : 154   ---   Fitness value : 54.688\n",
            "\n",
            "Generation : 155   ---   Fitness value : 55.625\n",
            "\n",
            "Generation : 156   ---   Fitness value : 56.9\n",
            "\n",
            "Generation : 157   ---   Fitness value : 57.812\n",
            "\n",
            "Generation : 158   ---   Fitness value : 58.55\n",
            "\n",
            "Generation : 159   ---   Fitness value : 59.175\n",
            "\n",
            "Generation : 160   ---   Fitness value : 59.487\n",
            "\n",
            "Generation : 161   ---   Fitness value : 60.175\n",
            "\n",
            "Generation : 162   ---   Fitness value : 60.55\n",
            "\n",
            "Generation : 163   ---   Fitness value : 61.375\n",
            "\n",
            "Generation : 164   ---   Fitness value : 63.413\n",
            "\n",
            "Generation : 165   ---   Fitness value : 65.65\n",
            "\n",
            "Generation : 166   ---   Fitness value : 66.725\n",
            "\n",
            "Generation : 167   ---   Fitness value : 67.55\n",
            "\n",
            "Generation : 168   ---   Fitness value : 68.45\n",
            "\n",
            "Generation : 169   ---   Fitness value : 68.812\n",
            "\n",
            "Generation : 170   ---   Fitness value : 69.537\n",
            "\n",
            "Generation : 171   ---   Fitness value : 70.2\n",
            "\n",
            "Generation : 172   ---   Fitness value : 71.037\n",
            "\n",
            "Generation : 173   ---   Fitness value : 71.925\n",
            "\n",
            "Generation : 174   ---   Fitness value : 72.75\n",
            "\n",
            "Generation : 175   ---   Fitness value : 73.475\n",
            "\n",
            "Generation : 176   ---   Fitness value : 73.987\n",
            "\n",
            "Generation : 177   ---   Fitness value : 75.388\n",
            "\n",
            "Generation : 178   ---   Fitness value : 76.838\n",
            "\n",
            "Generation : 179   ---   Fitness value : 77.8\n",
            "\n",
            "Generation : 180   ---   Fitness value : 78.713\n",
            "\n",
            "Generation : 181   ---   Fitness value : 79.188\n",
            "\n",
            "Generation : 182   ---   Fitness value : 79.425\n",
            "\n",
            "Generation : 183   ---   Fitness value : 80.25\n",
            "\n",
            "Generation : 184   ---   Fitness value : 80.425\n",
            "\n",
            "Generation : 185   ---   Fitness value : 81.062\n",
            "\n",
            "Generation : 186   ---   Fitness value : 82.787\n",
            "\n",
            "Generation : 187   ---   Fitness value : 85.987\n",
            "\n",
            "Generation : 188   ---   Fitness value : 88.7\n",
            "\n",
            "Generation : 189   ---   Fitness value : 90.95\n",
            "\n",
            "Generation : 190   ---   Fitness value : 92.05\n",
            "\n",
            "Generation : 191   ---   Fitness value : 92.825\n",
            "\n",
            "Generation : 192   ---   Fitness value : 93.5\n",
            "\n",
            "Generation : 193   ---   Fitness value : 94.287\n",
            "\n",
            "Generation : 194   ---   Fitness value : 95.612\n",
            "\n",
            "Generation : 195   ---   Fitness value : 98.3\n",
            "\n",
            "Generation : 196   ---   Fitness value : 101.05\n",
            "\n"
          ]
        },
        {
          "output_type": "display_data",
          "data": {
            "text/plain": [
              "<Figure size 432x288 with 1 Axes>"
            ],
            "image/png": "[encoded data removed]"
          },
          "metadata": {
            "needs_background": "light"
          }
        }
      ]
    },
    {
      "cell_type": "markdown",
      "source": [
        "# Performance profiling"
      ],
      "metadata": {
        "id": "YsCkGLmnq3S9"
      }
    },
    {
      "cell_type": "code",
      "source": [
        "# Additional modules and setup for advanced profiling later on\n",
        "!pip install line_profiler\n",
        "!pip install memory_profiler\n",
        "%load_ext line_profiler\n",
        "%load_ext memory_profiler"
      ],
      "metadata": {
        "colab": {
          "base_uri": "https://localhost:8080/"
        },
        "id": "zh8Xkj0Ko-zZ",
        "outputId": "5d6c04ec-65f0-4488-a2f5-c65a9b413c9e"
      },
      "execution_count": 28,
      "outputs": [
        {
          "output_type": "stream",
          "name": "stdout",
          "text": [
            "Looking in indexes: https://pypi.org/simple, https://us-python.pkg.dev/colab-wheels/public/simple/\n",
            "Collecting line_profiler\n",
            "  Downloading line_profiler-4.0.2-cp38-cp38-manylinux_2_17_x86_64.manylinux2014_x86_64.whl (673 kB)\n",
            "\u001b[K     |████████████████████████████████| 673 kB 4.7 MB/s \n",
            "\u001b[?25hInstalling collected packages: line-profiler\n",
            "Successfully installed line-profiler-4.0.2\n",
            "Looking in indexes: https://pypi.org/simple, https://us-python.pkg.dev/colab-wheels/public/simple/\n",
            "Collecting memory_profiler\n",
            "  Downloading memory_profiler-0.61.0-py3-none-any.whl (31 kB)\n",
            "Requirement already satisfied: psutil in /usr/local/lib/python3.8/dist-packages (from memory_profiler) (5.4.8)\n",
            "Installing collected packages: memory-profiler\n",
            "Successfully installed memory-profiler-0.61.0\n"
          ]
        }
      ]
    },
    {
      "cell_type": "markdown",
      "source": [
        "The codes below relieves the pricipal code from the various `print`, and Graph"
      ],
      "metadata": {
        "id": "Ea2xfDKax3-b"
      }
    },
    {
      "cell_type": "code",
      "source": [
        "def mutate(np, mo = MUTATE_ODDS, mminf = MUTATE_MIN_FACTOR, mmaxf = MUTATE_MAX_FACTOR):\n",
        "\n",
        "    for i in range(len(np)):\n",
        "\n",
        "      if round(random.random(),2) < mo: # Probability of mutation for a new puppy is given by factor MUTATE_ODDS\n",
        "      \n",
        "           np[i] = int((np[i] * random.uniform(mminf,mmaxf)) )     \n",
        "    return np"
      ],
      "metadata": {
        "id": "UYsqUKuptg5g"
      },
      "execution_count": 29,
      "outputs": []
    },
    {
      "cell_type": "code",
      "source": [
        "def main():\n",
        "  \n",
        "  cnt = 0\n",
        "  med = 0\n",
        "  dm = []\n",
        "  df = []\n",
        "  b  = []\n",
        "\n",
        "  g_cnt = 0  # used to make a graph\n",
        "  g_med = []\n",
        "\n",
        "  dm,df = population()\n",
        "\n",
        "  while (med < float(TARGET)):\n",
        "    \n",
        "    med = fitness(dm,df)\n",
        "    cnt +=1\n",
        "    g_med.append(med)\n",
        "    #print(f'Generation : {cnt}   ---   Fitness value : {med}')\n",
        "    \n",
        "    b = new_offspring(dm,df)\n",
        "    b = mutate(b)\n",
        "    dm,df = select(b)\n",
        "\n",
        "  g_cnt = cnt\n",
        "  \n",
        "\n",
        "  return  g_cnt,g_med"
      ],
      "metadata": {
        "id": "tnpP6o6TqnYW"
      },
      "execution_count": 30,
      "outputs": []
    },
    {
      "cell_type": "code",
      "source": [
        "%prun main()"
      ],
      "metadata": {
        "id": "QiH_zg1kqBCz",
        "colab": {
          "base_uri": "https://localhost:8080/"
        },
        "outputId": "f22b3790-9265-4ca1-e2c6-47357ecf8b02"
      },
      "execution_count": 31,
      "outputs": [
        {
          "output_type": "stream",
          "name": "stdout",
          "text": [
            " "
          ]
        }
      ]
    },
    {
      "cell_type": "code",
      "source": [
        "%lprun -f main main()"
      ],
      "metadata": {
        "id": "CTHhifPiuJnN"
      },
      "execution_count": 32,
      "outputs": []
    },
    {
      "cell_type": "markdown",
      "source": [
        "Most critical time factor, taking 56.9 % of time :\n",
        "\n",
        "\n",
        "\n",
        "```\n",
        "# 21       184  135696802.0 737482.6     56.9      b = new_offspring(dm,df)\n",
        "```\n",
        "\n"
      ],
      "metadata": {
        "id": "OkBJNKc-ufVa"
      }
    },
    {
      "cell_type": "code",
      "source": [
        "%lprun -f new_offspring main()"
      ],
      "metadata": {
        "id": "pIXQKfpcwJs-"
      },
      "execution_count": 33,
      "outputs": []
    },
    {
      "cell_type": "markdown",
      "source": [
        "Most critical time factor; no idea how to solve, without using numpy :\n",
        "\n",
        "```\n",
        "#  8       178  126669140.0 711624.4     84.3     new_pupp = [random.randint(min(m[i],f[i]), max(m[i],f[i])) for i in range(len(m)) for _ in range(lz)]\n",
        "```\n",
        "\n"
      ],
      "metadata": {
        "id": "ZPl6yBNjwoaX"
      }
    },
    {
      "cell_type": "code",
      "source": [
        "%memit main()"
      ],
      "metadata": {
        "colab": {
          "base_uri": "https://localhost:8080/"
        },
        "id": "Utxth5FBvaQe",
        "outputId": "4669dbda-2470-476c-ee37-3ce5eb041fe4"
      },
      "execution_count": 34,
      "outputs": [
        {
          "output_type": "stream",
          "name": "stdout",
          "text": [
            "peak memory: 186.01 MiB, increment: 0.06 MiB\n"
          ]
        }
      ]
    }
  ]
}