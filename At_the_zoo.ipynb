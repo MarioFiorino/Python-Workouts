{
  "nbformat": 4,
  "nbformat_minor": 0,
  "metadata": {
    "colab": {
      "name": "At_the_zoo.ipynb",
      "provenance": []
    },
    "kernelspec": {
      "name": "python3",
      "display_name": "Python 3"
    },
    "language_info": {
      "name": "python"
    }
  },
  "cells": [
    {
      "cell_type": "code",
      "execution_count": 8,
      "metadata": {
        "id": "vIc_8YHpaRgh"
      },
      "outputs": [],
      "source": [
        "class Zoo:\n",
        "      def __init__(self,Where):\n",
        "        self.count = 0\n",
        "        self.liz = []  # list of cage\n",
        "        self.W = Where\n",
        "\n",
        "      def add_c (self,*args):      #add cage\n",
        "         for i in args:\n",
        "           self.liz.append(i)\n",
        "           self.count = self.count + 1\n",
        "\n",
        "      def __repr__(self):\n",
        "            return f' Zoo of {self.W}   ---  Number of cage : {self.count}  ---  Specifications cage :\\n {self.liz}'\n",
        "\n",
        "      def query(self,color):\n",
        "        stic = False\n",
        "        for i in self.liz:  # i is cage \n",
        "            for j in i.li:  # E.g. j is ('parrot', 'green', 9, True)\n",
        "                for j1 in j:\n",
        "                    if j1 == color:\n",
        "                        print(\"A aminal :\", j[0] ,\", in cage ID :\",i.ID ,\", get color : \", color)\n",
        "                        stic = True\n",
        "        if stic == False:\n",
        "          print(\"Don't get a aminal\", color,\" in Zoo of \",self.W)"
      ]
    },
    {
      "cell_type": "code",
      "source": [
        "class Cage:\n",
        "\n",
        "  def __init__(self,ID_cage):\n",
        "    self.count_a = 0  # number of aminal in cage\n",
        "    self.li = []\n",
        "    self.ID = float(ID_cage)\n",
        " \n",
        "\n",
        "    \n",
        "  def add_c (self,*args):  # put or add animal in cage      \n",
        "    for i in args:\n",
        "      tu = (i.species, i.color, i.age, i.can_fly)\n",
        "      self.li.append(tu)\n",
        "      self.count_a = self.count_a + 1\n",
        "           \n",
        "            \n",
        "  def __repr__(self):\n",
        "    return f' ID cage {self.ID}\\n Inside: {self.count_a} animals : {(self.li)}\\n'"
      ],
      "metadata": {
        "id": "Bh70lo__aT4i"
      },
      "execution_count": 2,
      "outputs": []
    },
    {
      "cell_type": "code",
      "source": [
        "class Animal:\n",
        "    def __init__(self, color, can_fly, age):\n",
        "        self.color = color\n",
        "        self.can_fly = can_fly\n",
        "        self.age = int(age)\n",
        "        self.species = self.__class__.__name__.lower()\n",
        "\n",
        "    def __repr__(self):\n",
        "        return f'Color : {self.color}, Species : {self.species}, Age : {self.age} years , Fly : {self.can_fly}'\n",
        "\n",
        "class Gorilla(Animal):\n",
        "    def __init__(self, color, age):\n",
        "        super().__init__(color, False, age)\n",
        "        \n",
        "class Penguin(Animal):\n",
        "    def __init__(self, age):\n",
        "        super().__init__(\"black-white\",False, age)\n",
        "        \n",
        "class Snake(Animal):\n",
        "    def __init__(self, color, age):\n",
        "        super().__init__(color, False , age)\n",
        "        \n",
        "class Parrot(Animal):\n",
        "    def __init__(self, color, age):\n",
        "        super().__init__(color, True, age)"
      ],
      "metadata": {
        "id": "vEXw9F9HaZsp"
      },
      "execution_count": 3,
      "outputs": []
    },
    {
      "cell_type": "code",
      "source": [
        "#Animal instantiation\n",
        "\n",
        "Pino = Gorilla('brown',39)\n",
        "Lucy = Penguin(1.2)\n",
        "Martin = Penguin(3)\n",
        "Alfio = Snake('white',4)\n",
        "Ciro = Parrot('green',9)"
      ],
      "metadata": {
        "id": "dqjYgd3oaa4w"
      },
      "execution_count": 4,
      "outputs": []
    },
    {
      "cell_type": "code",
      "source": [
        "print(Pino)\n",
        "print(Lucy)\n",
        "print(Ciro)"
      ],
      "metadata": {
        "colab": {
          "base_uri": "https://localhost:8080/"
        },
        "id": "qQZJCFzead3f",
        "outputId": "071d1e66-96a4-4d46-92bc-6a7d4ec70ad3"
      },
      "execution_count": 5,
      "outputs": [
        {
          "output_type": "stream",
          "name": "stdout",
          "text": [
            "Color : brown, Species : gorilla, Age : 39 years , Fly : False\n",
            "Color : black-white, Species : penguin, Age : 1 years , Fly : False\n",
            "Color : green, Species : parrot, Age : 9 years , Fly : True\n"
          ]
        }
      ]
    },
    {
      "cell_type": "code",
      "source": [
        "#Cage instantiation\n",
        "\n",
        "count = 0 # This need to give an identity code to cage\n",
        "count = count + 1 \n",
        "k = Cage(count)\n",
        "k.add_c(Ciro,Alfio)\n",
        "print(k)\n",
        "\n",
        "k.add_c(Lucy)\n",
        "print(k)\n",
        "\n",
        "count = count + 1 \n",
        "k1 = Cage(count)\n",
        "k1.add_c(Pino)\n",
        "print(k1)\n",
        "\n",
        "count = count + 1 \n",
        "k2 = Cage(count)\n",
        "k2.add_c(Martin)\n",
        "print(k2)"
      ],
      "metadata": {
        "colab": {
          "base_uri": "https://localhost:8080/"
        },
        "id": "bd9WvEdyahQ_",
        "outputId": "7b94adf6-9c3c-4acd-e4ca-b8504e7f7c9f"
      },
      "execution_count": 6,
      "outputs": [
        {
          "output_type": "stream",
          "name": "stdout",
          "text": [
            " ID cage 1.0\n",
            " Inside: 2 animals : [('parrot', 'green', 9, True), ('snake', 'white', 4, False)]\n",
            "\n",
            " ID cage 1.0\n",
            " Inside: 3 animals : [('parrot', 'green', 9, True), ('snake', 'white', 4, False), ('penguin', 'black-white', 1, False)]\n",
            "\n",
            " ID cage 2.0\n",
            " Inside: 1 animals : [('gorilla', 'brown', 39, False)]\n",
            "\n",
            " ID cage 3.0\n",
            " Inside: 1 animals : [('penguin', 'black-white', 3, False)]\n",
            "\n"
          ]
        }
      ]
    },
    {
      "cell_type": "code",
      "source": [
        "#Zoo instantiation\n",
        "\n",
        "print(\"\")\n",
        "z = Zoo('Milano')\n",
        "z.add_c(k,k2) #  add two cage in zoo\n",
        "print(z)"
      ],
      "metadata": {
        "colab": {
          "base_uri": "https://localhost:8080/"
        },
        "id": "JwA96Nv3a1uf",
        "outputId": "6bb7ff1e-fe4b-450c-90d7-86d2b78aca73"
      },
      "execution_count": 9,
      "outputs": [
        {
          "output_type": "stream",
          "name": "stdout",
          "text": [
            "\n",
            " Zoo of Milano   ---  Number of cage : 2  ---  Specifications cage :\n",
            " [ ID cage 1.0\n",
            " Inside: 3 animals : [('parrot', 'green', 9, True), ('snake', 'white', 4, False), ('penguin', 'black-white', 1, False)]\n",
            ",  ID cage 3.0\n",
            " Inside: 1 animals : [('penguin', 'black-white', 3, False)]\n",
            "]\n"
          ]
        }
      ]
    },
    {
      "cell_type": "code",
      "source": [
        "#Query\n",
        "\n",
        "print(\"\")\n",
        "qcolor = 'green'\n",
        "print(f'Do you have a {qcolor} animal in this zoo?')\n",
        "z.query(qcolor)\n",
        "print(\"\")\n",
        "qcolor = 'red'\n",
        "print(f'Do you have a {qcolor} animal in this zoo?')\n",
        "z.query(qcolor)"
      ],
      "metadata": {
        "colab": {
          "base_uri": "https://localhost:8080/"
        },
        "id": "g8q5lGHobFhn",
        "outputId": "4a3a3b3f-c525-437c-98a6-59f7fca8dd12"
      },
      "execution_count": 10,
      "outputs": [
        {
          "output_type": "stream",
          "name": "stdout",
          "text": [
            "\n",
            "Do you have a green animal in this zoo?\n",
            "A aminal : parrot , in cage ID : 1.0 , get color :  green\n",
            "\n",
            "Do you have a red animal in this zoo?\n",
            "Don't get a aminal red  in Zoo of  Milano\n"
          ]
        }
      ]
    }
  ]
}