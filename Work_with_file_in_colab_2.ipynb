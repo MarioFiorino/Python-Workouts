{
  "nbformat": 4,
  "nbformat_minor": 0,
  "metadata": {
    "colab": {
      "provenance": []
    },
    "kernelspec": {
      "name": "python3",
      "display_name": "Python 3"
    },
    "language_info": {
      "name": "python"
    }
  },
  "cells": [
    {
      "cell_type": "markdown",
      "source": [
        "To clone repository from GitHub in Colab notebook :"
      ],
      "metadata": {
        "id": "_plSoJpOdUj4"
      }
    },
    {
      "cell_type": "code",
      "source": [
        "! git clone https://github.com/MorvanZhou/Reinforcement-learning-with-tensorflow.git"
      ],
      "metadata": {
        "id": "mYWoqo9Oh0Jz"
      },
      "execution_count": null,
      "outputs": []
    },
    {
      "cell_type": "markdown",
      "source": [
        "To move in Colab directory"
      ],
      "metadata": {
        "id": "it9LnBX1eA85"
      }
    },
    {
      "cell_type": "code",
      "source": [
        "! pwd\n",
        "! ls\n",
        "%cd Reinforcement-learning-with-tensorflow\n",
        "! ls\n",
        "%cd contents/2_Q_Learning_maze\n",
        "!ls"
      ],
      "metadata": {
        "colab": {
          "base_uri": "https://localhost:8080/"
        },
        "id": "_W3TRrK5r9Q0",
        "outputId": "d2792df7-a2a8-4de9-bcd6-1f142a7adb54"
      },
      "execution_count": 5,
      "outputs": [
        {
          "output_type": "stream",
          "name": "stdout",
          "text": [
            "/content\n",
            "Reinforcement-learning-with-tensorflow\tsample_data\n",
            "/content/Reinforcement-learning-with-tensorflow\n",
            "contents  experiments  LICENCE\tREADME.md  RL_cover.jpg\n",
            "/content/Reinforcement-learning-with-tensorflow/contents/2_Q_Learning_maze\n",
            "maze_env.py  RL_brain.py  run_this.py\n"
          ]
        }
      ]
    },
    {
      "cell_type": "markdown",
      "source": [
        ">  NOTE : There is a difference between  \" ! \"  and  \" % \" \n",
        "\n",
        " - initiating with ! are global and run for the whole system\n",
        " \n",
        "- commands with % are specific to the current environment (main environment vs a virtual environment for current project). Thus, the cd command should be started by % to tell the compiler that we are changing the directory for the current temporary subshell."
      ],
      "metadata": {
        "id": "IzsfTruAwyDE"
      }
    },
    {
      "cell_type": "markdown",
      "source": [
        "To read data from the file and gives their content as output."
      ],
      "metadata": {
        "id": "9jpHWvLFel83"
      }
    },
    {
      "cell_type": "code",
      "source": [
        "%cat maze_env.py "
      ],
      "metadata": {
        "id": "V-pnmrmsx7tk"
      },
      "execution_count": null,
      "outputs": []
    },
    {
      "cell_type": "markdown",
      "source": [
        "> COME MODIFICARE IL FILE maze.env IN COLAB?\n",
        "\n",
        "Il file puo essere modificato sfruttando le icone a sinistra  a sinistra :\n",
        "- click sull icona cartella sulla sinistra\n",
        "- click sul file e modificalo sulla destra. Il salvataggio sarà automatico"
      ],
      "metadata": {
        "id": "FaNnCbTgesap"
      }
    },
    {
      "cell_type": "code",
      "source": [
        "!apt-get install xvfb # Install X Virtual Frame Buffer\n",
        "import os\n",
        "os.system('Xvfb :1 -screen 0 720x720x16  &')    # create virtual display with size 720x720 and 16 bit color. Color can be changed to 24 or 8\n",
        "os.environ['DISPLAY']=':1.0'    # tell X clients to use our virtual DISPLAY :1.0"
      ],
      "metadata": {
        "colab": {
          "base_uri": "https://localhost:8080/"
        },
        "id": "EDPV9mjAGgCd",
        "outputId": "35ec5faf-d596-4dd9-c7e4-504588dc6587"
      },
      "execution_count": 15,
      "outputs": [
        {
          "output_type": "stream",
          "name": "stdout",
          "text": [
            "Reading package lists... Done\n",
            "Building dependency tree       \n",
            "Reading state information... Done\n",
            "xvfb is already the newest version (2:1.19.6-1ubuntu4.12).\n",
            "The following package was automatically installed and is no longer required:\n",
            "  libnvidia-common-460\n",
            "Use 'apt autoremove' to remove it.\n",
            "0 upgraded, 0 newly installed, 0 to remove and 14 not upgraded.\n"
          ]
        }
      ]
    },
    {
      "cell_type": "code",
      "source": [
        "%run maze_env.py "
      ],
      "metadata": {
        "id": "0zAkZ2lPfPnm"
      },
      "execution_count": null,
      "outputs": []
    },
    {
      "cell_type": "markdown",
      "source": [
        "\n",
        "TclError: no display name and no $DISPLAY environment variable\n",
        "\n",
        "From the intro to google colab:\n",
        "\n",
        "Colab notebooks execute code on Google's cloud servers\n",
        "\n",
        "Servers generally don't even have a display. And even if they had, you wouldn't see it. You will have to run Python on your desktop or laptop to use tkinter"
      ],
      "metadata": {
        "id": "zt_2vjFX0wvJ"
      }
    }
  ]
}