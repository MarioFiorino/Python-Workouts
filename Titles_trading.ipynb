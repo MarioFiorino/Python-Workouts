{
  "nbformat": 4,
  "nbformat_minor": 0,
  "metadata": {
    "colab": {
      "provenance": []
    },
    "kernelspec": {
      "name": "python3",
      "display_name": "Python 3"
    },
    "language_info": {
      "name": "python"
    }
  },
  "cells": [
    {
      "cell_type": "markdown",
      "source": [
        "Mario Fiorino\n"
      ],
      "metadata": {
        "id": "vlc71SjkWJlQ"
      }
    },
    {
      "cell_type": "markdown",
      "source": [
        "#Modules"
      ],
      "metadata": {
        "id": "VUxkaUngWXFy"
      }
    },
    {
      "cell_type": "code",
      "execution_count": null,
      "metadata": {
        "id": "y9_HFKJyWIi5"
      },
      "outputs": [],
      "source": [
        "import random\n",
        "from collections import defaultdict\n",
        "import datetime\n",
        "import csv"
      ]
    },
    {
      "cell_type": "markdown",
      "source": [
        "# Create empty .cvs file\n",
        "This command allows you to create an empty Comma-Separated-Values file. This file will be fill in the next spets."
      ],
      "metadata": {
        "id": "1athDwTrJwmG"
      }
    },
    {
      "cell_type": "code",
      "source": [
        "!pwd\n",
        "!ls\n",
        "!touch tack.cvs\n",
        "!ls"
      ],
      "metadata": {
        "colab": {
          "base_uri": "https://localhost:8080/"
        },
        "id": "Kqtp-hj_o0Ko",
        "outputId": "8aacb85c-cd37-4527-844e-737a6f1a6373"
      },
      "execution_count": null,
      "outputs": [
        {
          "output_type": "stream",
          "name": "stdout",
          "text": [
            "/content\n",
            "sample_data\n",
            "sample_data  tack.cvs\n"
          ]
        }
      ]
    },
    {
      "cell_type": "markdown",
      "source": [
        "# Parameters to generate random trading operations\n",
        "Below the parameters to generate random trading operations"
      ],
      "metadata": {
        "id": "3bkyrIRvJW12"
      }
    },
    {
      "cell_type": "code",
      "source": [
        "stock_title = [\"CMCX\",\"RMHY\",\"ACNA\",\"TNT\",\"GOOG\",\"YAH\"]\n",
        "\n",
        "MIN_num_stocks = 1\n",
        "MAX_num_stocks = 1_000\n",
        "\n",
        "MIN_price = 0.1\n",
        "MAX_price = 59.99\n",
        "\n",
        "MIN_data_Y = 2020\n",
        "MAX_data_Y = 2022\n",
        "\n",
        "MIN_month = 7\n",
        "MAX_month = 11"
      ],
      "metadata": {
        "id": "kMyIv6M_Jaso"
      },
      "execution_count": null,
      "outputs": []
    },
    {
      "cell_type": "markdown",
      "source": [
        "# Generate random data : trading operations\n",
        "\n",
        "This function allows you to generate random transaction lines (trading operations) in the required format. \n",
        "\n",
        "E.g:\n",
        "\n",
        "\n",
        "          GOOG - BUY - num_stocks - price_per_stock - YYYY/MM/DD  |  HH:mm:ss"
      ],
      "metadata": {
        "id": "UimJejwXhpI2"
      }
    },
    {
      "cell_type": "code",
      "source": [
        "def generate_data():\n",
        "   \n",
        "    code = (random.choice(stock_title))\n",
        "    oper = (random.choice(['BUY','SELL']))\n",
        "    num_stocks = random.randint(MIN_num_stocks,MAX_num_stocks)\n",
        "    price = round(random.uniform(MIN_price, MAX_price),2)\n",
        "    date = datetime.datetime(random.randint(MIN_data_Y,MAX_data_Y), random.randint(MIN_month,MAX_month),random.randint(1,30),random.randint(7,16), random.randint(0,59)) \n",
        "    \n",
        "    return code, oper, num_stocks, price, date"
      ],
      "metadata": {
        "id": "axbqNe40O2ej"
      },
      "execution_count": null,
      "outputs": []
    },
    {
      "cell_type": "markdown",
      "source": [
        "## Put generated random data in empty file .csv"
      ],
      "metadata": {
        "id": "LpAj7BCtizaX"
      }
    },
    {
      "cell_type": "code",
      "source": [
        "def generate_cvs(size = 70):     # the total operation number is 70 by default\n",
        "     \n",
        "    head = [\"title\",\"operation\",\"num_stocks\",\"price_per_stock\",\"date\"] \n",
        "    \n",
        "    with open('tack.cvs', 'w') as output:\n",
        "        writer = csv.writer(output)\n",
        "        writer.writerow(head)\n",
        "        for i in range(size):\n",
        "            writer.writerow(generate_data())"
      ],
      "metadata": {
        "id": "3JZLZDnEWX4c"
      },
      "execution_count": null,
      "outputs": []
    },
    {
      "cell_type": "code",
      "source": [
        "generate_cvs()\n",
        "%cat tack.cvs"
      ],
      "metadata": {
        "colab": {
          "base_uri": "https://localhost:8080/"
        },
        "id": "yt23EXPqe_aJ",
        "outputId": "97053efa-9f97-4575-c439-5ad256912b68"
      },
      "execution_count": null,
      "outputs": [
        {
          "output_type": "stream",
          "name": "stdout",
          "text": [
            "title,operation,num_stocks,price_per_stock,date\r\n",
            "CMCX,BUY,876,0.12,2021-08-16 11:32:00\r\n",
            "RMHY,SELL,505,8.74,2020-07-19 07:25:00\r\n",
            "YAH,BUY,900,0.27,2021-08-04 09:31:00\r\n",
            "RMHY,SELL,720,59.6,2021-09-15 11:07:00\r\n",
            "GOOG,BUY,523,0.7,2020-07-04 10:19:00\r\n",
            "TNT,SELL,26,53.08,2021-07-09 14:50:00\r\n",
            "TNT,SELL,394,55.59,2022-07-16 11:01:00\r\n",
            "GOOG,SELL,166,44.85,2021-10-08 13:10:00\r\n",
            "YAH,SELL,86,8.07,2021-11-06 14:46:00\r\n",
            "ACNA,BUY,581,7.3,2020-09-21 11:38:00\r\n",
            "CMCX,SELL,140,28.34,2021-09-10 08:51:00\r\n",
            "YAH,SELL,614,54.21,2022-10-30 14:47:00\r\n",
            "TNT,BUY,718,48.19,2020-09-04 15:44:00\r\n",
            "TNT,BUY,764,25.79,2022-09-12 15:28:00\r\n",
            "YAH,BUY,170,26.62,2022-08-14 11:13:00\r\n",
            "TNT,SELL,506,38.16,2020-09-27 12:36:00\r\n",
            "ACNA,SELL,515,56.17,2021-11-13 07:46:00\r\n",
            "RMHY,SELL,795,44.07,2020-08-30 15:06:00\r\n",
            "TNT,BUY,732,8.45,2021-09-09 07:22:00\r\n",
            "CMCX,SELL,166,27.72,2021-07-17 13:21:00\r\n",
            "ACNA,BUY,23,9.48,2020-08-01 11:47:00\r\n",
            "RMHY,SELL,524,38.59,2021-09-25 07:47:00\r\n",
            "CMCX,SELL,188,35.83,2021-07-27 14:04:00\r\n",
            "ACNA,BUY,584,19.9,2021-08-22 11:42:00\r\n",
            "CMCX,SELL,96,17.24,2020-11-17 16:55:00\r\n",
            "CMCX,BUY,721,20.94,2021-08-30 13:08:00\r\n",
            "RMHY,SELL,98,25.02,2020-11-29 15:21:00\r\n",
            "ACNA,BUY,336,2.03,2022-10-09 09:44:00\r\n",
            "YAH,BUY,161,50.69,2021-08-20 09:20:00\r\n",
            "GOOG,SELL,977,21.15,2020-10-25 14:23:00\r\n",
            "CMCX,SELL,599,39.4,2022-11-24 09:30:00\r\n",
            "ACNA,SELL,500,44.43,2022-08-06 08:54:00\r\n",
            "GOOG,BUY,24,34.06,2022-11-13 14:12:00\r\n",
            "TNT,BUY,710,38.39,2021-08-12 13:06:00\r\n",
            "RMHY,SELL,800,3.41,2022-11-22 10:53:00\r\n",
            "CMCX,BUY,756,32.79,2020-08-24 13:25:00\r\n",
            "TNT,BUY,295,25.08,2020-07-02 15:19:00\r\n",
            "CMCX,BUY,819,45.42,2020-07-01 15:33:00\r\n",
            "ACNA,BUY,331,38.1,2022-11-22 11:20:00\r\n",
            "CMCX,BUY,29,7.39,2022-07-17 13:23:00\r\n",
            "ACNA,BUY,292,2.25,2021-08-11 10:00:00\r\n",
            "CMCX,SELL,394,19.02,2020-09-16 14:33:00\r\n",
            "RMHY,SELL,629,55.75,2020-10-21 10:00:00\r\n",
            "YAH,BUY,848,43.3,2022-10-21 14:31:00\r\n",
            "GOOG,SELL,953,2.46,2022-11-13 12:47:00\r\n",
            "TNT,SELL,675,38.82,2020-09-29 08:15:00\r\n",
            "RMHY,SELL,498,55.08,2020-10-08 12:53:00\r\n",
            "YAH,SELL,238,42.92,2022-07-24 10:38:00\r\n",
            "ACNA,BUY,105,50.5,2022-08-18 15:54:00\r\n",
            "RMHY,BUY,235,13.54,2020-09-24 08:22:00\r\n",
            "ACNA,BUY,970,57.13,2022-10-27 11:34:00\r\n",
            "YAH,SELL,952,8.57,2022-09-30 07:14:00\r\n",
            "CMCX,BUY,574,51.12,2021-10-22 11:40:00\r\n",
            "GOOG,BUY,456,15.4,2021-10-14 11:07:00\r\n",
            "TNT,BUY,517,44.05,2020-07-21 10:12:00\r\n",
            "RMHY,BUY,522,39.68,2020-08-13 07:20:00\r\n",
            "YAH,SELL,676,34.07,2021-08-08 09:46:00\r\n",
            "YAH,BUY,129,43.36,2020-08-23 14:56:00\r\n",
            "GOOG,SELL,430,29.35,2021-09-19 16:51:00\r\n",
            "YAH,SELL,597,58.18,2022-07-04 12:49:00\r\n",
            "RMHY,SELL,992,46.04,2022-11-26 12:15:00\r\n",
            "ACNA,BUY,932,54.18,2022-07-04 09:47:00\r\n",
            "YAH,SELL,448,20.91,2022-07-13 10:53:00\r\n",
            "CMCX,SELL,970,41.3,2020-10-02 10:31:00\r\n",
            "YAH,SELL,703,21.41,2021-11-13 10:22:00\r\n",
            "CMCX,SELL,703,55.23,2020-08-24 16:38:00\r\n",
            "TNT,SELL,984,15.43,2022-11-25 11:47:00\r\n",
            "TNT,SELL,737,8.88,2021-07-02 11:28:00\r\n",
            "ACNA,SELL,20,1.7,2020-07-23 12:01:00\r\n",
            "ACNA,BUY,216,52.73,2021-09-26 12:12:00\r\n"
          ]
        }
      ]
    },
    {
      "cell_type": "markdown",
      "source": [
        "# Get data from file cvs\n",
        "\n",
        "Get data from file cvs, and put it in dict\n",
        "\n",
        "Note : The \"with statement\" initiates a context manager. Once the indented block ends, the file will automatically close; so not is needed explicitly close file."
      ],
      "metadata": {
        "id": "povS_N0di_Jn"
      }
    },
    {
      "cell_type": "code",
      "source": [
        "with open('tack.cvs', mode='r') as csv_file:\n",
        "    reader = csv.DictReader(csv_file)\n",
        "    data = list(reader)    \n",
        "    data = sorted(data, key=lambda d: d['date']) # sort the list of dictionaries by date\n",
        "\n",
        "\n",
        "for row in data:\n",
        "    print(row)\n",
        "    #print(row['operation'])\n",
        "    #print(row['date'][5:])\n",
        "    #print(type(row['date'][5:7])) # <class 'str'>"
      ],
      "metadata": {
        "colab": {
          "base_uri": "https://localhost:8080/"
        },
        "id": "zcyeXPOhXWKz",
        "outputId": "1e05d82f-3913-4eaa-e008-aa4979bef0ca"
      },
      "execution_count": null,
      "outputs": [
        {
          "output_type": "stream",
          "name": "stdout",
          "text": [
            "{'title': 'CMCX', 'operation': 'BUY', 'num_stocks': '819', 'price_per_stock': '45.42', 'date': '2020-07-01 15:33:00'}\n",
            "{'title': 'TNT', 'operation': 'BUY', 'num_stocks': '295', 'price_per_stock': '25.08', 'date': '2020-07-02 15:19:00'}\n",
            "{'title': 'GOOG', 'operation': 'BUY', 'num_stocks': '523', 'price_per_stock': '0.7', 'date': '2020-07-04 10:19:00'}\n",
            "{'title': 'RMHY', 'operation': 'SELL', 'num_stocks': '505', 'price_per_stock': '8.74', 'date': '2020-07-19 07:25:00'}\n",
            "{'title': 'TNT', 'operation': 'BUY', 'num_stocks': '517', 'price_per_stock': '44.05', 'date': '2020-07-21 10:12:00'}\n",
            "{'title': 'ACNA', 'operation': 'SELL', 'num_stocks': '20', 'price_per_stock': '1.7', 'date': '2020-07-23 12:01:00'}\n",
            "{'title': 'ACNA', 'operation': 'BUY', 'num_stocks': '23', 'price_per_stock': '9.48', 'date': '2020-08-01 11:47:00'}\n",
            "{'title': 'RMHY', 'operation': 'BUY', 'num_stocks': '522', 'price_per_stock': '39.68', 'date': '2020-08-13 07:20:00'}\n",
            "{'title': 'YAH', 'operation': 'BUY', 'num_stocks': '129', 'price_per_stock': '43.36', 'date': '2020-08-23 14:56:00'}\n",
            "{'title': 'CMCX', 'operation': 'BUY', 'num_stocks': '756', 'price_per_stock': '32.79', 'date': '2020-08-24 13:25:00'}\n",
            "{'title': 'CMCX', 'operation': 'SELL', 'num_stocks': '703', 'price_per_stock': '55.23', 'date': '2020-08-24 16:38:00'}\n",
            "{'title': 'RMHY', 'operation': 'SELL', 'num_stocks': '795', 'price_per_stock': '44.07', 'date': '2020-08-30 15:06:00'}\n",
            "{'title': 'TNT', 'operation': 'BUY', 'num_stocks': '718', 'price_per_stock': '48.19', 'date': '2020-09-04 15:44:00'}\n",
            "{'title': 'CMCX', 'operation': 'SELL', 'num_stocks': '394', 'price_per_stock': '19.02', 'date': '2020-09-16 14:33:00'}\n",
            "{'title': 'ACNA', 'operation': 'BUY', 'num_stocks': '581', 'price_per_stock': '7.3', 'date': '2020-09-21 11:38:00'}\n",
            "{'title': 'RMHY', 'operation': 'BUY', 'num_stocks': '235', 'price_per_stock': '13.54', 'date': '2020-09-24 08:22:00'}\n",
            "{'title': 'TNT', 'operation': 'SELL', 'num_stocks': '506', 'price_per_stock': '38.16', 'date': '2020-09-27 12:36:00'}\n",
            "{'title': 'TNT', 'operation': 'SELL', 'num_stocks': '675', 'price_per_stock': '38.82', 'date': '2020-09-29 08:15:00'}\n",
            "{'title': 'CMCX', 'operation': 'SELL', 'num_stocks': '970', 'price_per_stock': '41.3', 'date': '2020-10-02 10:31:00'}\n",
            "{'title': 'RMHY', 'operation': 'SELL', 'num_stocks': '498', 'price_per_stock': '55.08', 'date': '2020-10-08 12:53:00'}\n",
            "{'title': 'RMHY', 'operation': 'SELL', 'num_stocks': '629', 'price_per_stock': '55.75', 'date': '2020-10-21 10:00:00'}\n",
            "{'title': 'GOOG', 'operation': 'SELL', 'num_stocks': '977', 'price_per_stock': '21.15', 'date': '2020-10-25 14:23:00'}\n",
            "{'title': 'CMCX', 'operation': 'SELL', 'num_stocks': '96', 'price_per_stock': '17.24', 'date': '2020-11-17 16:55:00'}\n",
            "{'title': 'RMHY', 'operation': 'SELL', 'num_stocks': '98', 'price_per_stock': '25.02', 'date': '2020-11-29 15:21:00'}\n",
            "{'title': 'TNT', 'operation': 'SELL', 'num_stocks': '737', 'price_per_stock': '8.88', 'date': '2021-07-02 11:28:00'}\n",
            "{'title': 'TNT', 'operation': 'SELL', 'num_stocks': '26', 'price_per_stock': '53.08', 'date': '2021-07-09 14:50:00'}\n",
            "{'title': 'CMCX', 'operation': 'SELL', 'num_stocks': '166', 'price_per_stock': '27.72', 'date': '2021-07-17 13:21:00'}\n",
            "{'title': 'CMCX', 'operation': 'SELL', 'num_stocks': '188', 'price_per_stock': '35.83', 'date': '2021-07-27 14:04:00'}\n",
            "{'title': 'YAH', 'operation': 'BUY', 'num_stocks': '900', 'price_per_stock': '0.27', 'date': '2021-08-04 09:31:00'}\n",
            "{'title': 'YAH', 'operation': 'SELL', 'num_stocks': '676', 'price_per_stock': '34.07', 'date': '2021-08-08 09:46:00'}\n",
            "{'title': 'ACNA', 'operation': 'BUY', 'num_stocks': '292', 'price_per_stock': '2.25', 'date': '2021-08-11 10:00:00'}\n",
            "{'title': 'TNT', 'operation': 'BUY', 'num_stocks': '710', 'price_per_stock': '38.39', 'date': '2021-08-12 13:06:00'}\n",
            "{'title': 'CMCX', 'operation': 'BUY', 'num_stocks': '876', 'price_per_stock': '0.12', 'date': '2021-08-16 11:32:00'}\n",
            "{'title': 'YAH', 'operation': 'BUY', 'num_stocks': '161', 'price_per_stock': '50.69', 'date': '2021-08-20 09:20:00'}\n",
            "{'title': 'ACNA', 'operation': 'BUY', 'num_stocks': '584', 'price_per_stock': '19.9', 'date': '2021-08-22 11:42:00'}\n",
            "{'title': 'CMCX', 'operation': 'BUY', 'num_stocks': '721', 'price_per_stock': '20.94', 'date': '2021-08-30 13:08:00'}\n",
            "{'title': 'TNT', 'operation': 'BUY', 'num_stocks': '732', 'price_per_stock': '8.45', 'date': '2021-09-09 07:22:00'}\n",
            "{'title': 'CMCX', 'operation': 'SELL', 'num_stocks': '140', 'price_per_stock': '28.34', 'date': '2021-09-10 08:51:00'}\n",
            "{'title': 'RMHY', 'operation': 'SELL', 'num_stocks': '720', 'price_per_stock': '59.6', 'date': '2021-09-15 11:07:00'}\n",
            "{'title': 'GOOG', 'operation': 'SELL', 'num_stocks': '430', 'price_per_stock': '29.35', 'date': '2021-09-19 16:51:00'}\n",
            "{'title': 'RMHY', 'operation': 'SELL', 'num_stocks': '524', 'price_per_stock': '38.59', 'date': '2021-09-25 07:47:00'}\n",
            "{'title': 'ACNA', 'operation': 'BUY', 'num_stocks': '216', 'price_per_stock': '52.73', 'date': '2021-09-26 12:12:00'}\n",
            "{'title': 'GOOG', 'operation': 'SELL', 'num_stocks': '166', 'price_per_stock': '44.85', 'date': '2021-10-08 13:10:00'}\n",
            "{'title': 'GOOG', 'operation': 'BUY', 'num_stocks': '456', 'price_per_stock': '15.4', 'date': '2021-10-14 11:07:00'}\n",
            "{'title': 'CMCX', 'operation': 'BUY', 'num_stocks': '574', 'price_per_stock': '51.12', 'date': '2021-10-22 11:40:00'}\n",
            "{'title': 'YAH', 'operation': 'SELL', 'num_stocks': '86', 'price_per_stock': '8.07', 'date': '2021-11-06 14:46:00'}\n",
            "{'title': 'ACNA', 'operation': 'SELL', 'num_stocks': '515', 'price_per_stock': '56.17', 'date': '2021-11-13 07:46:00'}\n",
            "{'title': 'YAH', 'operation': 'SELL', 'num_stocks': '703', 'price_per_stock': '21.41', 'date': '2021-11-13 10:22:00'}\n",
            "{'title': 'ACNA', 'operation': 'BUY', 'num_stocks': '932', 'price_per_stock': '54.18', 'date': '2022-07-04 09:47:00'}\n",
            "{'title': 'YAH', 'operation': 'SELL', 'num_stocks': '597', 'price_per_stock': '58.18', 'date': '2022-07-04 12:49:00'}\n",
            "{'title': 'YAH', 'operation': 'SELL', 'num_stocks': '448', 'price_per_stock': '20.91', 'date': '2022-07-13 10:53:00'}\n",
            "{'title': 'TNT', 'operation': 'SELL', 'num_stocks': '394', 'price_per_stock': '55.59', 'date': '2022-07-16 11:01:00'}\n",
            "{'title': 'CMCX', 'operation': 'BUY', 'num_stocks': '29', 'price_per_stock': '7.39', 'date': '2022-07-17 13:23:00'}\n",
            "{'title': 'YAH', 'operation': 'SELL', 'num_stocks': '238', 'price_per_stock': '42.92', 'date': '2022-07-24 10:38:00'}\n",
            "{'title': 'ACNA', 'operation': 'SELL', 'num_stocks': '500', 'price_per_stock': '44.43', 'date': '2022-08-06 08:54:00'}\n",
            "{'title': 'YAH', 'operation': 'BUY', 'num_stocks': '170', 'price_per_stock': '26.62', 'date': '2022-08-14 11:13:00'}\n",
            "{'title': 'ACNA', 'operation': 'BUY', 'num_stocks': '105', 'price_per_stock': '50.5', 'date': '2022-08-18 15:54:00'}\n",
            "{'title': 'TNT', 'operation': 'BUY', 'num_stocks': '764', 'price_per_stock': '25.79', 'date': '2022-09-12 15:28:00'}\n",
            "{'title': 'YAH', 'operation': 'SELL', 'num_stocks': '952', 'price_per_stock': '8.57', 'date': '2022-09-30 07:14:00'}\n",
            "{'title': 'ACNA', 'operation': 'BUY', 'num_stocks': '336', 'price_per_stock': '2.03', 'date': '2022-10-09 09:44:00'}\n",
            "{'title': 'YAH', 'operation': 'BUY', 'num_stocks': '848', 'price_per_stock': '43.3', 'date': '2022-10-21 14:31:00'}\n",
            "{'title': 'ACNA', 'operation': 'BUY', 'num_stocks': '970', 'price_per_stock': '57.13', 'date': '2022-10-27 11:34:00'}\n",
            "{'title': 'YAH', 'operation': 'SELL', 'num_stocks': '614', 'price_per_stock': '54.21', 'date': '2022-10-30 14:47:00'}\n",
            "{'title': 'GOOG', 'operation': 'SELL', 'num_stocks': '953', 'price_per_stock': '2.46', 'date': '2022-11-13 12:47:00'}\n",
            "{'title': 'GOOG', 'operation': 'BUY', 'num_stocks': '24', 'price_per_stock': '34.06', 'date': '2022-11-13 14:12:00'}\n",
            "{'title': 'RMHY', 'operation': 'SELL', 'num_stocks': '800', 'price_per_stock': '3.41', 'date': '2022-11-22 10:53:00'}\n",
            "{'title': 'ACNA', 'operation': 'BUY', 'num_stocks': '331', 'price_per_stock': '38.1', 'date': '2022-11-22 11:20:00'}\n",
            "{'title': 'CMCX', 'operation': 'SELL', 'num_stocks': '599', 'price_per_stock': '39.4', 'date': '2022-11-24 09:30:00'}\n",
            "{'title': 'TNT', 'operation': 'SELL', 'num_stocks': '984', 'price_per_stock': '15.43', 'date': '2022-11-25 11:47:00'}\n",
            "{'title': 'RMHY', 'operation': 'SELL', 'num_stocks': '992', 'price_per_stock': '46.04', 'date': '2022-11-26 12:15:00'}\n"
          ]
        }
      ]
    },
    {
      "cell_type": "markdown",
      "source": [
        "# Handle trading operations \n",
        "\n",
        "Keeping tracks of all the transactions for each title, the min/max/average stock price for a title in a given range date and the overall number of stocks sold of a title.\n",
        "\n",
        "The function below, produces out a dictionary:\n",
        "- key : the name of title, \n",
        "- value : a list of the required statistics :\n",
        "   - amount of stocks sold of a title\n",
        "   - amount of stocks bought of a title\n",
        "   - min price\n",
        "   - max price\n",
        "   - average price"
      ],
      "metadata": {
        "id": "6_vr0F9hcyOL"
      }
    },
    {
      "cell_type": "code",
      "source": [
        "def handle_statistics(datah, select_date1, select_date2):\n",
        "       \n",
        "  dic_stat = defaultdict(list)\n",
        "\n",
        "  for stock in datah:\n",
        "\n",
        "      if (select_date1 <= stock['date'] <= select_date2):\n",
        "         \n",
        "         if stock['title'] in dic_stat.keys():\n",
        "              \n",
        "              if stock['operation'] == 'SELL':\n",
        "                  dic_stat [stock['title']][0] = dic_stat [stock['title']][0] + int(stock['num_stocks'])\n",
        "              else:\n",
        "                  dic_stat [stock['title']][1] = dic_stat [stock['title']][1] + int(stock['num_stocks'])                                    \n",
        "\n",
        "              if float(stock['price_per_stock']) <  dic_stat [stock['title']][2]:   # check min price\n",
        "                dic_stat [stock['title']][2] = float(stock['price_per_stock'])\n",
        "\n",
        "              if float(stock['price_per_stock']) >  dic_stat [stock['title']][3]:  # check max price\n",
        "                dic_stat [stock['title']][3] = float(stock['price_per_stock']) \n",
        "              \n",
        "              dic_stat [stock['title']][4] = dic_stat [stock['title']][4] + (float(stock['price_per_stock']) * int(stock['num_stocks']))\n",
        "           \n",
        "         \n",
        "         else: \n",
        "\n",
        "           if stock['operation'] == 'SELL':\n",
        "               dic_stat [stock['title']] = [int(stock['num_stocks']),             # amount of stocks sold of a title,\n",
        "                                            0,                                    # amount of stocks bought of a title,\n",
        "                                            float(stock['price_per_stock']),      # min price\n",
        "                                            float(stock['price_per_stock']),      # max price\n",
        "                                            float(stock['price_per_stock']) * int(stock['num_stocks'])  # avarage price  \n",
        "                                            ]                                   \n",
        "           else:\n",
        "             dic_stat [stock['title']] =   [0,                                    # amount of stocks sold of a title,\n",
        "                                            int(stock['num_stocks']),             # amount of stocks bought of a title,\n",
        "                                            float(stock['price_per_stock']),      # min price\n",
        "                                            float(stock['price_per_stock']),      # max price\n",
        "                                            float(stock['price_per_stock']) * int(stock['num_stocks'])  # avarage price    \n",
        "                                            ]          \n",
        "  \n",
        "  key = [i for i in dic_stat if dic_stat[i]!= dic_stat.default_factory()]  #get original key set from defaultdict\n",
        "  #print(key)\n",
        "\n",
        "  for i in key:\n",
        "       dic_stat [i][4] =  round ((dic_stat [i][4]) / (dic_stat [i][0] + dic_stat [i][1]),2) \n",
        "\n",
        "  return dic_stat\n"
      ],
      "metadata": {
        "id": "kmNez9QLDUor"
      },
      "execution_count": null,
      "outputs": []
    },
    {
      "cell_type": "code",
      "source": [
        "def display(d):\n",
        "  \n",
        "  key = [i for i in d if d[i]!= d.default_factory()]  # get original key set from defaultdict\n",
        "  #print(key)\n",
        "  key = sorted(key)\n",
        "\n",
        "  for i in key:\n",
        "    print('\\n')\n",
        "    print(f' Title : {i},\\n amount of stocks sold : {d[i][0]}, amount of stocks bought : {d[i][1]}')\n",
        "    print(f' min price : {d[i][2]}, MAX price : {d[i][3]}, average price  : {d[i][4]} ')"
      ],
      "metadata": {
        "id": "zjrYA8-5aDqR"
      },
      "execution_count": null,
      "outputs": []
    },
    {
      "cell_type": "code",
      "source": [
        "select_date1 = '2022-01-01'\n",
        "select_date2 = '2022-12-30'\n",
        "\n",
        "d = handle_statistics(data, select_date1, select_date2)\n",
        "#print(d)\n",
        "\n",
        "display(d)\n"
      ],
      "metadata": {
        "colab": {
          "base_uri": "https://localhost:8080/"
        },
        "id": "cXOgeGUESv72",
        "outputId": "ccc108d9-7af6-4658-8be9-49fba8612ded"
      },
      "execution_count": null,
      "outputs": [
        {
          "output_type": "stream",
          "name": "stdout",
          "text": [
            "\n",
            "\n",
            " Title : ACNA,\n",
            " amount of stocks sold : 500, amount of stocks bought : 2674\n",
            " min price : 2.03, MAX price : 57.13, average price  : 46.23 \n",
            "\n",
            "\n",
            " Title : CMCX,\n",
            " amount of stocks sold : 599, amount of stocks bought : 29\n",
            " min price : 7.39, MAX price : 39.4, average price  : 37.92 \n",
            "\n",
            "\n",
            " Title : GOOG,\n",
            " amount of stocks sold : 953, amount of stocks bought : 24\n",
            " min price : 2.46, MAX price : 34.06, average price  : 3.24 \n",
            "\n",
            "\n",
            " Title : RMHY,\n",
            " amount of stocks sold : 1792, amount of stocks bought : 0\n",
            " min price : 3.41, MAX price : 46.04, average price  : 27.01 \n",
            "\n",
            "\n",
            " Title : TNT,\n",
            " amount of stocks sold : 1378, amount of stocks bought : 764\n",
            " min price : 15.43, MAX price : 55.59, average price  : 26.51 \n",
            "\n",
            "\n",
            " Title : YAH,\n",
            " amount of stocks sold : 2849, amount of stocks bought : 1018\n",
            " min price : 8.57, MAX price : 58.18, average price  : 35.43 \n"
          ]
        }
      ]
    },
    {
      "cell_type": "markdown",
      "source": [
        "# Update data\n",
        "\n",
        "Updating the available information introducing new titles, registering new operations"
      ],
      "metadata": {
        "id": "4Wt22Y29cPni"
      }
    },
    {
      "cell_type": "code",
      "source": [
        "u_data = [\n",
        "{'title': 'DNT', 'operation': 'BUY', 'num_stocks': '43', 'price_per_stock': '5.9', 'date': '2022-10-07 10:55:00'},\n",
        "{'title': 'GOOG', 'operation': 'BUY', 'num_stocks': '224', 'price_per_stock': '0.61', 'date': '2022-10-19 10:00:00'},\n",
        "{'title': 'AAA', 'operation': 'BUY', 'num_stocks': '450', 'price_per_stock': '35.12', 'date': '2022-10-22 10:27:00'},\n",
        "{'title': 'DNT', 'operation': 'SELL', 'num_stocks': '799', 'price_per_stock': '12.93', 'date': '2022-10-20 10:00:00'}\n",
        "]\n",
        "\n",
        "data = data + u_data\n",
        "#print(data)\n",
        "\n",
        "select_date1 = '2022-01-01'\n",
        "select_date2 = '2022-12-30'\n",
        "\n",
        "d = handle_statistics(data, select_date1, select_date2)\n",
        "\n",
        "display(d)"
      ],
      "metadata": {
        "colab": {
          "base_uri": "https://localhost:8080/"
        },
        "id": "R2xcycAqeB7Y",
        "outputId": "e934e580-e242-4132-dddc-380632bb44bd"
      },
      "execution_count": null,
      "outputs": [
        {
          "output_type": "stream",
          "name": "stdout",
          "text": [
            "\n",
            "\n",
            " Title : AAA,\n",
            " amount of stocks sold : 0, amount of stocks bought : 450\n",
            " min price : 35.12, MAX price : 35.12, average price  : 35.12 \n",
            "\n",
            "\n",
            " Title : ACNA,\n",
            " amount of stocks sold : 500, amount of stocks bought : 2674\n",
            " min price : 2.03, MAX price : 57.13, average price  : 46.23 \n",
            "\n",
            "\n",
            " Title : CMCX,\n",
            " amount of stocks sold : 599, amount of stocks bought : 29\n",
            " min price : 7.39, MAX price : 39.4, average price  : 37.92 \n",
            "\n",
            "\n",
            " Title : DNT,\n",
            " amount of stocks sold : 799, amount of stocks bought : 43\n",
            " min price : 5.9, MAX price : 12.93, average price  : 12.57 \n",
            "\n",
            "\n",
            " Title : GOOG,\n",
            " amount of stocks sold : 953, amount of stocks bought : 248\n",
            " min price : 0.61, MAX price : 34.06, average price  : 2.75 \n",
            "\n",
            "\n",
            " Title : RMHY,\n",
            " amount of stocks sold : 1792, amount of stocks bought : 0\n",
            " min price : 3.41, MAX price : 46.04, average price  : 27.01 \n",
            "\n",
            "\n",
            " Title : TNT,\n",
            " amount of stocks sold : 1378, amount of stocks bought : 764\n",
            " min price : 15.43, MAX price : 55.59, average price  : 26.51 \n",
            "\n",
            "\n",
            " Title : YAH,\n",
            " amount of stocks sold : 2849, amount of stocks bought : 1018\n",
            " min price : 8.57, MAX price : 58.18, average price  : 35.43 \n"
          ]
        }
      ]
    }
  ]
}