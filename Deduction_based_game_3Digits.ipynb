{
  "nbformat": 4,
  "nbformat_minor": 0,
  "metadata": {
    "colab": {
      "provenance": []
    },
    "kernelspec": {
      "name": "python3",
      "display_name": "Python 3"
    },
    "language_info": {
      "name": "python"
    }
  },
  "cells": [
    {
      "cell_type": "markdown",
      "source": [
        "# Import module "
      ],
      "metadata": {
        "id": "Psil4D1hOdtF"
      }
    },
    {
      "cell_type": "code",
      "source": [
        "import random\n"
      ],
      "metadata": {
        "id": "Pu5CSEpNONdS"
      },
      "execution_count": null,
      "outputs": []
    },
    {
      "cell_type": "markdown",
      "source": [
        "# Manage any user input errors such as letter, float, empty input, ect..."
      ],
      "metadata": {
        "id": "fPRzXdZpVjZr"
      }
    },
    {
      "cell_type": "code",
      "source": [
        "def handle_user_input():\n",
        "    \n",
        "    n = input(\"Please enter one digit from 0 to 9 : \")\n",
        "\n",
        "    while True:\n",
        "        \n",
        "        if (n != '') and (n in \"0123456789\") and (int(n) < 10) :\n",
        "          #NOTE : third condition : (int(n) < 10),  avoid situation \n",
        "          # like this : \"123\" or \"56\" or \"89\", ... that are True in second condition\n",
        "          \n",
        "          n = int(n)\n",
        "          break\n",
        "            \n",
        "        else:\n",
        "          n = input(\"Data entry error, please enter one digit from 0 to 9 : \")\n",
        "          \n",
        "    return n"
      ],
      "metadata": {
        "id": "dJs8G-qocmCT"
      },
      "execution_count": null,
      "outputs": []
    },
    {
      "cell_type": "markdown",
      "source": [
        "# Generate list of three digits guessed by the user"
      ],
      "metadata": {
        "id": "5x35GY-igPbd"
      }
    },
    {
      "cell_type": "code",
      "source": [
        "def get_guessed_list(MAX_DIGIT):\n",
        "\n",
        "  d = None\n",
        "  lg = []\n",
        "\n",
        "  for i in range (1,MAX_DIGIT+1): \n",
        "    d = handle_user_input()\n",
        "    #print(f\" ***  The digit in palce {i} is :   {d}   ***  \")\n",
        "    lg.append(d)\n",
        "\n",
        "  print(f\" \\n Three-digit user :  {lg[0]}   {lg[1]}   {lg[2]}  \") \n",
        "\n",
        "  return lg\n"
      ],
      "metadata": {
        "id": "IpHUMW0KfQGG"
      },
      "execution_count": null,
      "outputs": []
    },
    {
      "cell_type": "markdown",
      "source": [
        "# Explain the rules of the game\n"
      ],
      "metadata": {
        "id": "3iQNBkcO7wDH"
      }
    },
    {
      "cell_type": "code",
      "source": [
        "def explain():\n",
        "  print(\"  Try to guess a randomly generated three-digits value \\n \"\n",
        "        \"\\n\"\n",
        "        \"  Clues: \\n \"\n",
        "        \"   ALFA  :  if (at least) one correct digit is in the correct place; \\n \"       \n",
        "        \"   BRAVO :  if (at least) one correct digit is in the wrong place; \\n \"   \n",
        "        \"   CHARLIE :  if no correct digits are present. \\n\")"
      ],
      "metadata": {
        "id": "DLK-BOOy78tz"
      },
      "execution_count": null,
      "outputs": []
    },
    {
      "cell_type": "markdown",
      "source": [
        "# Check how many digit-value are rgiht, and in the right place"
      ],
      "metadata": {
        "id": "NEeTqPkJWLkb"
      }
    },
    {
      "cell_type": "code",
      "source": [
        "def dig_check(T,u):\n",
        "  flag = None\n",
        "  cnt = 0\n",
        "\n",
        "  n_T = T[:]  # auxiliary lists for manage concurrent cases: BRAVO and ALFA\n",
        "  n_u = u[:]\n",
        "\n",
        "  for i in range(0, 3):\n",
        "     if (T[i] == u[i]):\n",
        "         cnt += 1  #count digit in right place\n",
        "         \n",
        "         digt = T[i] \n",
        "         n_T.remove(digt)  \n",
        "         n_u.remove(digt)\n",
        "  \n",
        "  flag = (len(set(n_T).intersection(n_u)) != 0) # to check at least one correct digit is in the wrong place in the remaining elements. \n",
        "  \n",
        "  # Why auxiliary lists ? \n",
        "  # The answer in this example: \n",
        "  #in input :  0,3,9  and 3,3,3  become 0,9 and  3,3  => flag is False\n",
        "  #in input :  0,3,9  and 9,3,3  become 0,9 and  9,3  => flag is True\n",
        "\n",
        "  return cnt,flag"
      ],
      "metadata": {
        "id": "uJ_WW7EHV3Ge"
      },
      "execution_count": null,
      "outputs": []
    },
    {
      "cell_type": "markdown",
      "source": [
        "# Parameters\n",
        "global scope"
      ],
      "metadata": {
        "id": "SDd7edztoP2a"
      }
    },
    {
      "cell_type": "code",
      "source": [
        "MAX_GUESSES = 10\n",
        "NUM_DIGITS = 3\n",
        "user = None\n",
        "cnt = None\n",
        "flag = None"
      ],
      "metadata": {
        "id": "XnFMmbqwoVhx"
      },
      "execution_count": null,
      "outputs": []
    },
    {
      "cell_type": "markdown",
      "source": [
        "# Main"
      ],
      "metadata": {
        "id": "sP41QmwanIke"
      }
    },
    {
      "cell_type": "code",
      "source": [
        "def main():\n",
        "  #explain()\n",
        "  \n",
        "  TL = [random.randint(0, 9) for _ in range(3)] # generate list of 3 digit to guess\n",
        "  print(TL)\n",
        "\n",
        "  for i in range(1,MAX_GUESSES+1):\n",
        "\n",
        "    print(f\"\\n This is your  {i}° shot of {MAX_GUESSES} \\n\")\n",
        "    user = get_guessed_list(NUM_DIGITS)\n",
        "    cnt,flag = dig_check(TL,user)\n",
        "\n",
        "    if (cnt == 3):\n",
        "       print(f\" !!!  You guessed right on the {i}° try !!!  \\n\")\n",
        "       break\n",
        "\n",
        "    elif (0 < cnt < 3) and (flag == False) :\n",
        "       print(\" - ALFA  :  At least one correct digit is in the correct place. \\n\")\n",
        "\n",
        "    elif (flag == True) and (cnt==0):\n",
        "       print(\" - BRAVO :  At least one correct digit is in the wrong place. \\n \")\n",
        "\n",
        "    elif (cnt == 0) and (flag == False):\n",
        "       print(\" - CHARLIE :  no correct digits are present. \\n\") \n",
        "\n",
        "    else:\n",
        "       print(\" - BRAVO :  At least one correct digit is in the wrong place. \")\n",
        "       print(\" - ALFA  :  At least one correct digit is in the correct place. \\n\")\n",
        "\n"
      ],
      "metadata": {
        "id": "fr35VppBn6-X"
      },
      "execution_count": null,
      "outputs": []
    },
    {
      "cell_type": "markdown",
      "source": [
        " # Execute code when the file runs as a script\n",
        "\n",
        " Not when it's imported as a module."
      ],
      "metadata": {
        "id": "sQclBBi8tjle"
      }
    },
    {
      "cell_type": "code",
      "source": [
        "if __name__ == '__main__':\n",
        "    main()"
      ],
      "metadata": {
        "colab": {
          "base_uri": "https://localhost:8080/"
        },
        "id": "cky5GybRp2GU",
        "outputId": "442fcd84-d9e3-40e9-9133-41b424a7a003"
      },
      "execution_count": null,
      "outputs": [
        {
          "output_type": "stream",
          "name": "stdout",
          "text": [
            "[3, 2, 3]\n",
            "\n",
            " This is your  1° shot of 10 \n",
            "\n",
            "Please enter one digit from 0 to 9 : 3\n",
            "Please enter one digit from 0 to 9 : 3\n",
            "Please enter one digit from 0 to 9 : 4\n",
            " \n",
            " Three-digit user :  3   3   4  \n",
            " - BRAVO :  At least one correct digit is in the wrong place. \n",
            " - ALFA  :  At least one correct digit is in the correct place. \n",
            "\n",
            "\n",
            " This is your  2° shot of 10 \n",
            "\n",
            "Please enter one digit from 0 to 9 : 3\n",
            "Please enter one digit from 0 to 9 : 2\n",
            "Please enter one digit from 0 to 9 : 3\n",
            " \n",
            " Three-digit user :  3   2   3  \n",
            " !!!  You guessed right on the 2° try !!!  \n",
            "\n"
          ]
        }
      ]
    }
  ]
}